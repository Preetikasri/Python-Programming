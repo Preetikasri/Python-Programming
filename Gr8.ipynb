{
 "cells": [
  {
   "cell_type": "markdown",
   "metadata": {},
   "source": [
    "## Assignment 1 - Group 8"
   ]
  },
  {
   "cell_type": "markdown",
   "metadata": {},
   "source": [
    "###  1. Rock, Paper, Scissors"
   ]
  },
  {
   "cell_type": "code",
   "execution_count": 1,
   "metadata": {},
   "outputs": [
    {
     "name": "stdout",
     "output_type": "stream",
     "text": [
      "Choose Rock, Paper or Scissors to play. Type Quit to stop playing:Rock\n",
      "Draw : Rock draws with Rock\n",
      "Choose Rock, Paper or Scissors to play. Type Quit to stop playing:Paper\n",
      "Draw : Paper draws with Paper\n",
      "Choose Rock, Paper or Scissors to play. Type Quit to stop playing:Quit\n",
      "Games Played: 2\n",
      "Games won: 0\n"
     ]
    }
   ],
   "source": [
    "q=[\"Rock\", \"Paper\", \"Scissors\"]\n",
    "import random\n",
    "def rps(c,h):\n",
    "\t\"\"\" Returns the game result \"\"\"\n",
    "\tif c==h:\n",
    "\t\treturn\"Draw\"\n",
    "\telif c==\"Rock\":\t\n",
    "\t\tif h==\"Paper\":\n",
    "\t\t\treturn'Human Win'\n",
    "\t\telif h==\"Scissors\":\n",
    "\t\t\treturn\"Computer Win\"\n",
    "\telif c==\"Paper\":\n",
    "\t\tif h==\"Rock\":\n",
    "\t\t\treturn'Computer Win'\n",
    "\t\telif h==\"Scissors\":\n",
    "\t\t\treturn'Human Win'\n",
    "\telif c==\"Scissors\":\n",
    "\t\tif h==\"Rock\":\n",
    "\t\t\treturn'Human Win'\n",
    "\t\telif h==\"Paper\":\n",
    "\t\t\treturn\"Computer Win\"\n",
    "a=0\n",
    "b=0\n",
    "c=0\n",
    "i=0\n",
    "win=0\n",
    "d={}\n",
    "h_choice=None\n",
    "while h_choice!=\"Quit\":\n",
    "\tl= sorted(d.items()) # List of key,value pairs sorted by keys\n",
    "\tif i==0 or l[0][1]==l[1][1]==l[2][1]: # Random choice for first game\n",
    "\t\tc_choice=random.choice(q)\n",
    "\telse:                                       # Computer brains\n",
    "\t\tif l[0][1]>l[1][1] and l[0][1]>l[2][1]:\n",
    "\t\t\tc_choice=\"Scissors\"\n",
    "\t\telif l[1][1]>l[0][1] and l[1][1]>l[2][1]:\n",
    "\t\t\tc_choice=\"Paper\"\n",
    "\t\telif l[0][1]==l[1][1] and l[0][1]>l[2][1]:\n",
    "\t\t\tc_choice=\"Paper\"\n",
    "\t\telif l[0][1]==l[2][1] and l[0][1]>l[1][1]:\n",
    "\t\t\tc_choice=\"Scissors\"\n",
    "\t\telif l[1][1]==l[2][1] and l[1][1]>l[0][1]:\n",
    "\t\t\tc_choice=\"Rock\"\n",
    "\t\telse:\n",
    "\t\t\tc_choice=\"Rock\"\n",
    "\th_choice=raw_input(\"Choose Rock, Paper or Scissors to play. Type Quit to stop playing:\") # Evaluating user input\n",
    "\tif h_choice!=\"Rock\" and h_choice!=\"Paper\" and h_choice!=\"Scissors\" and h_choice!=\"Quit\":\n",
    "\t\tprint\"Not a valid input\"\n",
    "\t\tcontinue\n",
    "\telif h_choice==\"Quit\":\n",
    "\t\tprint\"Games Played:\",i\n",
    "\t\tprint\"Games won:\",win\n",
    "\tr=rps(c_choice,h_choice)\n",
    "\ti+=1 # Iteration for games played\n",
    "\tif r==\"Draw\":\n",
    "\t\tprint\"Draw\",\":\",c_choice,\"draws with\",h_choice\n",
    "\telif r==\"Human Win\":\n",
    "\t\tprint\"Human Win:\",h_choice,\"beats\",c_choice\n",
    "\t\twin+=1 # Iteration for games won by human\n",
    "\telif r==\"Computer Win\":\n",
    "\t\tprint\"Computer Win:\",c_choice,\"beats\",h_choice\n",
    "\tif h_choice=='Rock': # Updating dictionary\n",
    "\t\ta+=1\n",
    "\telif h_choice==\"Paper\":\n",
    "\t\tb+=1\n",
    "\telif h_choice==\"Scissors\":\n",
    "\t\tc+=1\n",
    "\td['Rock']=a\n",
    "\td['Paper']=b\n",
    "\td['Scissors']=c\n",
    "\n",
    "\n",
    "\t\n",
    "\t\t\t\n",
    "        \n",
    "\t\t\t\n"
   ]
  },
  {
   "cell_type": "markdown",
   "metadata": {},
   "source": [
    "### 2. Voters in Florida"
   ]
  },
  {
   "cell_type": "code",
   "execution_count": null,
   "metadata": {},
   "outputs": [],
   "source": [
    "import re\n",
    "\n",
    "fp = open('/Users/cathe/Documents/FloridaVoters.html', 'r')\n",
    "text = fp.read()\n",
    "\n",
    "text = text.replace(',','') #get rid of commas - we need this to create integers\n",
    "\n",
    "matches = re.findall('<td>(.*?)</td>',text) #parse the html text to only include the table\n",
    "\n",
    "#create lists of the first, second, and third rows of table\n",
    "x = matches[::6]\n",
    "y = matches[1::6]\n",
    "z = matches[2::6]\n",
    "\n",
    "#make the numbers into integers instead of strings\n",
    "z = map(int, z)\n",
    "y = map(int, y)\n",
    "\n",
    "#zip the lists into tuples of three\n",
    "voters = zip(x,y,z)\n",
    "\n",
    "#sort by dem voters\n",
    "sorted(voters, key=lambda x: x[2])"
   ]
  }
 ],
 "metadata": {
  "kernelspec": {
   "display_name": "Python 2",
   "language": "python",
   "name": "python2"
  },
  "language_info": {
   "codemirror_mode": {
    "name": "ipython",
    "version": 2
   },
   "file_extension": ".py",
   "mimetype": "text/x-python",
   "name": "python",
   "nbconvert_exporter": "python",
   "pygments_lexer": "ipython2",
   "version": "2.7.15"
  }
 },
 "nbformat": 4,
 "nbformat_minor": 2
}
